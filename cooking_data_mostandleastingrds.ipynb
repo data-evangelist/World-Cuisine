{
 "cells": [
  {
   "cell_type": "markdown",
   "metadata": {},
   "source": [
    "# DATA 602  \n",
    "**Group Project:** Cooking Dataset  \n",
    "Classifying cuisine type based on ingredients used in the recipe."
   ]
  },
  {
   "cell_type": "code",
   "execution_count": 20,
   "metadata": {},
   "outputs": [],
   "source": [
    "import pandas\n",
    "import collections # for Counter\n",
    "import matplotlib.pyplot as plt"
   ]
  },
  {
   "cell_type": "code",
   "execution_count": 21,
   "metadata": {},
   "outputs": [],
   "source": [
    "recipe_data = pandas.read_json('train.json', orient='records', typ='frame')"
   ]
  },
  {
   "cell_type": "code",
   "execution_count": 22,
   "metadata": {},
   "outputs": [
    {
     "data": {
      "text/html": [
       "<div>\n",
       "<style scoped>\n",
       "    .dataframe tbody tr th:only-of-type {\n",
       "        vertical-align: middle;\n",
       "    }\n",
       "\n",
       "    .dataframe tbody tr th {\n",
       "        vertical-align: top;\n",
       "    }\n",
       "\n",
       "    .dataframe thead th {\n",
       "        text-align: right;\n",
       "    }\n",
       "</style>\n",
       "<table border=\"1\" class=\"dataframe\">\n",
       "  <thead>\n",
       "    <tr style=\"text-align: right;\">\n",
       "      <th></th>\n",
       "      <th>cuisine</th>\n",
       "      <th>id</th>\n",
       "      <th>ingredients</th>\n",
       "    </tr>\n",
       "  </thead>\n",
       "  <tbody>\n",
       "    <tr>\n",
       "      <th>0</th>\n",
       "      <td>greek</td>\n",
       "      <td>10259</td>\n",
       "      <td>[romaine lettuce, black olives, grape tomatoes...</td>\n",
       "    </tr>\n",
       "    <tr>\n",
       "      <th>1</th>\n",
       "      <td>southern_us</td>\n",
       "      <td>25693</td>\n",
       "      <td>[plain flour, ground pepper, salt, tomatoes, g...</td>\n",
       "    </tr>\n",
       "    <tr>\n",
       "      <th>2</th>\n",
       "      <td>filipino</td>\n",
       "      <td>20130</td>\n",
       "      <td>[eggs, pepper, salt, mayonaise, cooking oil, g...</td>\n",
       "    </tr>\n",
       "    <tr>\n",
       "      <th>3</th>\n",
       "      <td>indian</td>\n",
       "      <td>22213</td>\n",
       "      <td>[water, vegetable oil, wheat, salt]</td>\n",
       "    </tr>\n",
       "    <tr>\n",
       "      <th>4</th>\n",
       "      <td>indian</td>\n",
       "      <td>13162</td>\n",
       "      <td>[black pepper, shallots, cornflour, cayenne pe...</td>\n",
       "    </tr>\n",
       "  </tbody>\n",
       "</table>\n",
       "</div>"
      ],
      "text/plain": [
       "       cuisine     id                                        ingredients\n",
       "0        greek  10259  [romaine lettuce, black olives, grape tomatoes...\n",
       "1  southern_us  25693  [plain flour, ground pepper, salt, tomatoes, g...\n",
       "2     filipino  20130  [eggs, pepper, salt, mayonaise, cooking oil, g...\n",
       "3       indian  22213                [water, vegetable oil, wheat, salt]\n",
       "4       indian  13162  [black pepper, shallots, cornflour, cayenne pe..."
      ]
     },
     "execution_count": 22,
     "metadata": {},
     "output_type": "execute_result"
    }
   ],
   "source": [
    "recipe_data.head()"
   ]
  },
  {
   "cell_type": "markdown",
   "metadata": {},
   "source": [
    "Probably the easiest way to do classification is to make each ingredient a separate binary attribute."
   ]
  },
  {
   "cell_type": "markdown",
   "metadata": {},
   "source": [
    "First let's make a list of all possible ingredients."
   ]
  },
  {
   "cell_type": "code",
   "execution_count": 23,
   "metadata": {},
   "outputs": [],
   "source": [
    "all_ingredients = []\n",
    "for ingrds in recipe_data['ingredients']:\n",
    "    all_ingredients += ingrds"
   ]
  },
  {
   "cell_type": "code",
   "execution_count": 24,
   "metadata": {},
   "outputs": [
    {
     "data": {
      "text/plain": [
       "428275"
      ]
     },
     "execution_count": 24,
     "metadata": {},
     "output_type": "execute_result"
    }
   ],
   "source": [
    "len(all_ingredients)"
   ]
  },
  {
   "cell_type": "markdown",
   "metadata": {},
   "source": [
    "Now we can count occurences of each ingredient and find the most common *N* ingredients."
   ]
  },
  {
   "cell_type": "code",
   "execution_count": 25,
   "metadata": {},
   "outputs": [],
   "source": [
    "ingrd_cnt = collections.Counter()\n",
    "# this list comprehension replaces spaces with underscores in each ingredient name\n",
    "for ingrd in [item.replace(' ', '_') for item in all_ingredients]:\n",
    "    ingrd_cnt[ingrd] += 1"
   ]
  },
  {
   "cell_type": "code",
   "execution_count": 26,
   "metadata": {},
   "outputs": [
    {
     "data": {
      "text/plain": [
       "6714"
      ]
     },
     "execution_count": 26,
     "metadata": {},
     "output_type": "execute_result"
    }
   ],
   "source": [
    "len(ingrd_cnt)"
   ]
  },
  {
   "cell_type": "code",
   "execution_count": 27,
   "metadata": {},
   "outputs": [],
   "source": [
    "N_INGRDS = 10 # N most (or least) common ingredients."
   ]
  },
  {
   "cell_type": "markdown",
   "metadata": {},
   "source": [
    "There are 6,714 unique ingredients and the most common are:"
   ]
  },
  {
   "cell_type": "code",
   "execution_count": 28,
   "metadata": {},
   "outputs": [
    {
     "name": "stdout",
     "output_type": "stream",
     "text": [
      "('salt', 18049)\n",
      "('onions', 7972)\n",
      "('olive_oil', 7972)\n",
      "('water', 7457)\n",
      "('garlic', 7380)\n",
      "('sugar', 6434)\n",
      "('garlic_cloves', 6237)\n",
      "('butter', 4848)\n",
      "('ground_black_pepper', 4785)\n",
      "('all-purpose_flour', 4632)\n"
     ]
    }
   ],
   "source": [
    "most_common_ingrds = ingrd_cnt.most_common(N_INGRDS)\n",
    "[print(ingrd) for ingrd in most_common_ingrds];"
   ]
  },
  {
   "cell_type": "code",
   "execution_count": 29,
   "metadata": {},
   "outputs": [],
   "source": [
    "# Code from https://stackoverflow.com/questions/4743035/obtaining-the-least-common-element-in-array\n",
    "from operator import itemgetter\n",
    "import heapq\n",
    "def least_common(array, to_find=None):\n",
    "    counter = collections.Counter(array)\n",
    "    if to_find is None:\n",
    "        return sorted(counter.items(), key=itemgetter(1), reverse=False)\n",
    "    return heapq.nsmallest(to_find, counter.items(), key=itemgetter(1))"
   ]
  },
  {
   "cell_type": "markdown",
   "metadata": {},
   "source": [
    "The N least common ingredients are:"
   ]
  },
  {
   "cell_type": "code",
   "execution_count": 30,
   "metadata": {},
   "outputs": [
    {
     "name": "stdout",
     "output_type": "stream",
     "text": [
      "('white_almond_bark', 1)\n",
      "('Johnsonville_Andouille_Dinner_Sausage', 1)\n",
      "('lemon_olive_oil', 1)\n",
      "('Taiwanese_bok_choy', 1)\n",
      "('membrillo', 1)\n",
      "('chestnut_flour', 1)\n",
      "('cinnamon_graham_crackers', 1)\n",
      "('chorizo_spanish', 1)\n",
      "('instant_butterscotch_pudding_mix', 1)\n",
      "('Guinness_Lager', 1)\n"
     ]
    }
   ],
   "source": [
    "least_common_ingrds = least_common([item.replace(' ', '_') for item in all_ingredients], N_INGRDS)\n",
    "[print(ingrd) for ingrd in least_common_ingrds];"
   ]
  },
  {
   "cell_type": "code",
   "execution_count": 31,
   "metadata": {},
   "outputs": [
    {
     "name": "stdout",
     "output_type": "stream",
     "text": [
      "('salt', 18049)\n",
      "('onions', 7972)\n",
      "('olive_oil', 7972)\n",
      "('water', 7457)\n",
      "('garlic', 7380)\n",
      "('sugar', 6434)\n",
      "('garlic_cloves', 6237)\n",
      "('butter', 4848)\n",
      "('ground_black_pepper', 4785)\n",
      "('all-purpose_flour', 4632)\n",
      "('white_almond_bark', 1)\n",
      "('Johnsonville_Andouille_Dinner_Sausage', 1)\n",
      "('lemon_olive_oil', 1)\n",
      "('Taiwanese_bok_choy', 1)\n",
      "('membrillo', 1)\n",
      "('chestnut_flour', 1)\n",
      "('cinnamon_graham_crackers', 1)\n",
      "('chorizo_spanish', 1)\n",
      "('instant_butterscotch_pudding_mix', 1)\n",
      "('Guinness_Lager', 1)\n"
     ]
    }
   ],
   "source": [
    "# Create a list of most and least common ingredients.\n",
    "most_and_least_common = most_common_ingrds + least_common_ingrds\n",
    "[print(ingrd) for ingrd in most_and_least_common];"
   ]
  },
  {
   "cell_type": "code",
   "execution_count": 32,
   "metadata": {},
   "outputs": [
    {
     "name": "stdout",
     "output_type": "stream",
     "text": [
      "['salt', 'onions', 'olive_oil', 'water', 'garlic', 'sugar', 'garlic_cloves', 'butter', 'ground_black_pepper', 'all-purpose_flour', 'white_almond_bark', 'Johnsonville_Andouille_Dinner_Sausage', 'lemon_olive_oil', 'Taiwanese_bok_choy', 'membrillo', 'chestnut_flour', 'cinnamon_graham_crackers', 'chorizo_spanish', 'instant_butterscotch_pudding_mix', 'Guinness_Lager']\n"
     ]
    }
   ],
   "source": [
    "# save just the ingredient names as an ordered list\n",
    "most_and_least_common = [ingrd for ingrd,cnt in most_and_least_common]\n",
    "print(most_and_least_common)"
   ]
  },
  {
   "cell_type": "code",
   "execution_count": 33,
   "metadata": {},
   "outputs": [
    {
     "name": "stdout",
     "output_type": "stream",
     "text": [
      "Key error.\n"
     ]
    }
   ],
   "source": [
    "try:\n",
    "    for i in range(recipe_data.shape[0]): # the number of rows in the dataframe\n",
    "        for ingrd in most_and_least_common:\n",
    "#            recipe_data[ingrd][i] = int(ingrd in recipe_data['ingredients'][i])\n",
    "            recipe_data[ingrd][i] = recipe_data.apply(lambda _: int(ingrd in recipe_data['ingredients'][i]), axis='columns')\n",
    "except ValueError:\n",
    "    print(\"Not sure what the problem is.\")\n",
    "except KeyError:\n",
    "    print(\"Key error.\")"
   ]
  },
  {
   "cell_type": "code",
   "execution_count": 34,
   "metadata": {},
   "outputs": [
    {
     "data": {
      "text/html": [
       "<div>\n",
       "<style scoped>\n",
       "    .dataframe tbody tr th:only-of-type {\n",
       "        vertical-align: middle;\n",
       "    }\n",
       "\n",
       "    .dataframe tbody tr th {\n",
       "        vertical-align: top;\n",
       "    }\n",
       "\n",
       "    .dataframe thead th {\n",
       "        text-align: right;\n",
       "    }\n",
       "</style>\n",
       "<table border=\"1\" class=\"dataframe\">\n",
       "  <thead>\n",
       "    <tr style=\"text-align: right;\">\n",
       "      <th></th>\n",
       "      <th>cuisine</th>\n",
       "      <th>id</th>\n",
       "      <th>ingredients</th>\n",
       "    </tr>\n",
       "  </thead>\n",
       "  <tbody>\n",
       "    <tr>\n",
       "      <th>0</th>\n",
       "      <td>greek</td>\n",
       "      <td>10259</td>\n",
       "      <td>[romaine lettuce, black olives, grape tomatoes...</td>\n",
       "    </tr>\n",
       "    <tr>\n",
       "      <th>1</th>\n",
       "      <td>southern_us</td>\n",
       "      <td>25693</td>\n",
       "      <td>[plain flour, ground pepper, salt, tomatoes, g...</td>\n",
       "    </tr>\n",
       "    <tr>\n",
       "      <th>2</th>\n",
       "      <td>filipino</td>\n",
       "      <td>20130</td>\n",
       "      <td>[eggs, pepper, salt, mayonaise, cooking oil, g...</td>\n",
       "    </tr>\n",
       "    <tr>\n",
       "      <th>3</th>\n",
       "      <td>indian</td>\n",
       "      <td>22213</td>\n",
       "      <td>[water, vegetable oil, wheat, salt]</td>\n",
       "    </tr>\n",
       "    <tr>\n",
       "      <th>4</th>\n",
       "      <td>indian</td>\n",
       "      <td>13162</td>\n",
       "      <td>[black pepper, shallots, cornflour, cayenne pe...</td>\n",
       "    </tr>\n",
       "  </tbody>\n",
       "</table>\n",
       "</div>"
      ],
      "text/plain": [
       "       cuisine     id                                        ingredients\n",
       "0        greek  10259  [romaine lettuce, black olives, grape tomatoes...\n",
       "1  southern_us  25693  [plain flour, ground pepper, salt, tomatoes, g...\n",
       "2     filipino  20130  [eggs, pepper, salt, mayonaise, cooking oil, g...\n",
       "3       indian  22213                [water, vegetable oil, wheat, salt]\n",
       "4       indian  13162  [black pepper, shallots, cornflour, cayenne pe..."
      ]
     },
     "execution_count": 34,
     "metadata": {},
     "output_type": "execute_result"
    }
   ],
   "source": [
    "recipe_data.head()"
   ]
  },
  {
   "cell_type": "markdown",
   "metadata": {},
   "source": [
    "Pandas didn't like something up there, but it seems to have done what I wanted so let's save it as a csv file."
   ]
  },
  {
   "cell_type": "code",
   "execution_count": 16,
   "metadata": {},
   "outputs": [],
   "source": [
    "recipe_data.to_csv('ingredients_training_mostandleast.csv')"
   ]
  },
  {
   "cell_type": "markdown",
   "metadata": {},
   "source": [
    "OK, this file is fairly large (almost 40k rows and 23 columns), so we can always take a subset of the rows and use fewer common ingredient columns."
   ]
  },
  {
   "cell_type": "markdown",
   "metadata": {},
   "source": [
    "Let's look for outliers"
   ]
  },
  {
   "cell_type": "code",
   "execution_count": 17,
   "metadata": {},
   "outputs": [],
   "source": [
    "num_ing = collections.Counter()\n",
    "for i in range(recipe_data.shape[0]): # the number of rows in the dataframe\n",
    "    # count the number of recipes that contain a given number of unique ingredients\n",
    "    num_ing[len(recipe_data['ingredients'][i])] += 1 "
   ]
  },
  {
   "cell_type": "code",
   "execution_count": 18,
   "metadata": {},
   "outputs": [],
   "source": [
    "ingredient_cnts = pandas.DataFrame(data=num_ing, index=range(len(num_ing)), columns=['ingredient_count'])"
   ]
  },
  {
   "cell_type": "code",
   "execution_count": 19,
   "metadata": {},
   "outputs": [
    {
     "data": {
      "image/png": "[encoded data removed]",
      "text/plain": [
       "<Figure size 1152x432 with 1 Axes>"
      ]
     },
     "metadata": {},
     "output_type": "display_data"
    }
   ],
   "source": [
    "ax = ingredient_cnts.plot(figsize=(16, 6))\n",
    "index = range(len(num_ing))\n",
    "bar_width = 0.5\n",
    "\n",
    "rects1 = ax.bar(x=index, height=list(num_ing.values()), width=bar_width)\n",
    "\n",
    "#label the subplot\n",
    "ax.set_xlabel(\"Ingredient Count\")\n",
    "ax.set_ylabel(\"Recipes\")\n",
    "ax.set_title(\"Number of ingredients used in recipes\")\n",
    "ax.set_xticks(index)\n",
    "ax.set_xticklabels(range(max(num_ing.keys())))\n",
    "ax.legend()\n",
    " \n",
    "plt.show()"
   ]
  },
  {
   "cell_type": "code",
   "execution_count": null,
   "metadata": {},
   "outputs": [],
   "source": []
  }
 ],
 "metadata": {
  "kernelspec": {
   "display_name": "Python 3",
   "language": "python",
   "name": "python3"
  },
  "language_info": {
   "codemirror_mode": {
    "name": "ipython",
    "version": 3
   },
   "file_extension": ".py",
   "mimetype": "text/x-python",
   "name": "python",
   "nbconvert_exporter": "python",
   "pygments_lexer": "ipython3",
   "version": "3.7.3"
  }
 },
 "nbformat": 4,
 "nbformat_minor": 2
}
